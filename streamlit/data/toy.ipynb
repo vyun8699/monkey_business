{
 "cells": [
  {
   "cell_type": "markdown",
   "metadata": {},
   "source": [
    "# Toy Dataset Generator\n",
    "\n",
    "This notebook contains functions to generate toy datasets with numerical and categorical values, along with functionality to introduce null values."
   ]
  },
  {
   "cell_type": "code",
   "execution_count": 8,
   "metadata": {},
   "outputs": [],
   "source": [
    "import numpy as np\n",
    "import pandas as pd\n",
    "import random\n",
    "import csv"
   ]
  },
  {
   "cell_type": "code",
   "execution_count": 9,
   "metadata": {},
   "outputs": [],
   "source": [
    "def generate_numerical_data(n_samples, continuous=True, mean=0, std=1, low=0, high=100):\n",
    "    \"\"\"\n",
    "    Generate numerical data either continuous or discrete.\n",
    "    \n",
    "    Parameters:\n",
    "    - n_samples: number of samples to generate\n",
    "    - continuous: if True, generates continuous data; if False, generates discrete data\n",
    "    - mean: mean for continuous data\n",
    "    - std: standard deviation for continuous data\n",
    "    - low: lower bound for discrete data\n",
    "    - high: upper bound for discrete data\n",
    "    \"\"\"\n",
    "    if continuous:\n",
    "        return np.random.normal(mean, std, n_samples)\n",
    "    else:\n",
    "        return np.random.randint(low, high, n_samples)"
   ]
  },
  {
   "cell_type": "code",
   "execution_count": 10,
   "metadata": {},
   "outputs": [],
   "source": [
    "def generate_categorical_data(n_samples, categories=None, probabilities=None):\n",
    "    \"\"\"\n",
    "    Generate categorical data.\n",
    "    \n",
    "    Parameters:\n",
    "    - n_samples: number of samples to generate\n",
    "    - categories: list of categories (default: ['A', 'B', 'C'])\n",
    "    - probabilities: probability distribution for categories (must sum to 1)\n",
    "    \"\"\"\n",
    "    if categories is None:\n",
    "        categories = ['A', 'B', 'C']\n",
    "    \n",
    "    if probabilities is None:\n",
    "        probabilities = [1/len(categories)] * len(categories)\n",
    "    \n",
    "    return np.random.choice(categories, size=n_samples, p=probabilities)"
   ]
  },
  {
   "cell_type": "code",
   "execution_count": 11,
   "metadata": {},
   "outputs": [],
   "source": [
    "def introduce_nulls(data, null_probability=0.1):\n",
    "    \"\"\"\n",
    "    Introduce null values into the data.\n",
    "    \n",
    "    Parameters:\n",
    "    - data: array-like data to introduce nulls into\n",
    "    - null_probability: probability of converting a value to null\n",
    "    \"\"\"\n",
    "    data = np.array(data)\n",
    "    mask = np.random.random(data.shape) < null_probability\n",
    "    data_with_nulls = data.copy()\n",
    "    data_with_nulls[mask] = np.nan\n",
    "    return data_with_nulls"
   ]
  },
  {
   "cell_type": "code",
   "execution_count": 14,
   "metadata": {},
   "outputs": [],
   "source": [
    "def create_toy_dataset(n_samples=1000, include_nulls=True):\n",
    "    \"\"\"\n",
    "    Create a complete toy dataset with various types of data.\n",
    "    \n",
    "    Parameters:\n",
    "    - n_samples: number of samples to generate\n",
    "    - include_nulls: whether to introduce null values\n",
    "    \"\"\"\n",
    "    # Generate different types of data\n",
    "    age = generate_numerical_data(n_samples, continuous=False, low=18, high=90)\n",
    "    income = generate_numerical_data(n_samples, continuous=True, mean=50000, std=20000)\n",
    "    categories = ['Student', 'Employed', 'Self-Employed', 'Retired']\n",
    "    occupation = generate_categorical_data(n_samples, categories=categories)\n",
    "    satisfaction = generate_numerical_data(n_samples, continuous=False, low=1, high=6)\n",
    "    \n",
    "    # Create DataFrame\n",
    "    df = pd.DataFrame({\n",
    "        'Age': age,\n",
    "        'Income': income,\n",
    "        'Occupation': occupation,\n",
    "        'Satisfaction': satisfaction\n",
    "    })\n",
    "    \n",
    "    # Introduce nulls in income\n",
    "    if include_nulls:\n",
    "        df['Income'] = introduce_nulls(df['Income'])\n",
    "    \n",
    "    return df"
   ]
  },
  {
   "cell_type": "code",
   "execution_count": 15,
   "metadata": {},
   "outputs": [
    {
     "name": "stdout",
     "output_type": "stream",
     "text": [
      "Dataset shape: (1000, 4)\n",
      "\n",
      "First few rows:\n"
     ]
    },
    {
     "data": {
      "text/html": [
       "<div>\n",
       "<style scoped>\n",
       "    .dataframe tbody tr th:only-of-type {\n",
       "        vertical-align: middle;\n",
       "    }\n",
       "\n",
       "    .dataframe tbody tr th {\n",
       "        vertical-align: top;\n",
       "    }\n",
       "\n",
       "    .dataframe thead th {\n",
       "        text-align: right;\n",
       "    }\n",
       "</style>\n",
       "<table border=\"1\" class=\"dataframe\">\n",
       "  <thead>\n",
       "    <tr style=\"text-align: right;\">\n",
       "      <th></th>\n",
       "      <th>Age</th>\n",
       "      <th>Income</th>\n",
       "      <th>Occupation</th>\n",
       "      <th>Satisfaction</th>\n",
       "    </tr>\n",
       "  </thead>\n",
       "  <tbody>\n",
       "    <tr>\n",
       "      <th>0</th>\n",
       "      <td>75</td>\n",
       "      <td>46924.378140</td>\n",
       "      <td>Employed</td>\n",
       "      <td>4</td>\n",
       "    </tr>\n",
       "    <tr>\n",
       "      <th>1</th>\n",
       "      <td>55</td>\n",
       "      <td>61472.191362</td>\n",
       "      <td>Self-Employed</td>\n",
       "      <td>2</td>\n",
       "    </tr>\n",
       "    <tr>\n",
       "      <th>2</th>\n",
       "      <td>44</td>\n",
       "      <td>58182.603064</td>\n",
       "      <td>Student</td>\n",
       "      <td>5</td>\n",
       "    </tr>\n",
       "    <tr>\n",
       "      <th>3</th>\n",
       "      <td>82</td>\n",
       "      <td>35002.200578</td>\n",
       "      <td>Employed</td>\n",
       "      <td>2</td>\n",
       "    </tr>\n",
       "    <tr>\n",
       "      <th>4</th>\n",
       "      <td>52</td>\n",
       "      <td>51165.329345</td>\n",
       "      <td>Self-Employed</td>\n",
       "      <td>2</td>\n",
       "    </tr>\n",
       "  </tbody>\n",
       "</table>\n",
       "</div>"
      ],
      "text/plain": [
       "   Age        Income     Occupation  Satisfaction\n",
       "0   75  46924.378140       Employed             4\n",
       "1   55  61472.191362  Self-Employed             2\n",
       "2   44  58182.603064        Student             5\n",
       "3   82  35002.200578       Employed             2\n",
       "4   52  51165.329345  Self-Employed             2"
      ]
     },
     "metadata": {},
     "output_type": "display_data"
    },
    {
     "name": "stdout",
     "output_type": "stream",
     "text": [
      "\n",
      "Null values per column:\n"
     ]
    },
    {
     "data": {
      "text/plain": [
       "Age              0\n",
       "Income          94\n",
       "Occupation       0\n",
       "Satisfaction     0\n",
       "dtype: int64"
      ]
     },
     "metadata": {},
     "output_type": "display_data"
    },
    {
     "name": "stdout",
     "output_type": "stream",
     "text": [
      "\n",
      "Percentage of null values per column:\n"
     ]
    },
    {
     "data": {
      "text/plain": [
       "Age             0.0\n",
       "Income          9.4\n",
       "Occupation      0.0\n",
       "Satisfaction    0.0\n",
       "dtype: float64"
      ]
     },
     "metadata": {},
     "output_type": "display_data"
    }
   ],
   "source": [
    "# Generate toy dataset with NaN values\n",
    "toy_df = create_toy_dataset(n_samples=1000, include_nulls=True)\n",
    "\n",
    "# Display basic information about the dataset\n",
    "print(\"Dataset shape:\", toy_df.shape)\n",
    "print(\"\\nFirst few rows:\")\n",
    "display(toy_df.head())\n",
    "\n",
    "# Display null value counts\n",
    "print(\"\\nNull values per column:\")\n",
    "display(toy_df.isnull().sum())\n",
    "\n",
    "# Display percentage of null values\n",
    "print(\"\\nPercentage of null values per column:\")\n",
    "display((toy_df.isnull().sum() / len(toy_df) * 100).round(2))"
   ]
  },
  {
   "cell_type": "code",
   "execution_count": 17,
   "metadata": {},
   "outputs": [],
   "source": [
    "toy_df.to_csv('toy.csv', index=False)"
   ]
  }
 ],
 "metadata": {
  "kernelspec": {
   "display_name": "venv",
   "language": "python",
   "name": "python3"
  },
  "language_info": {
   "codemirror_mode": {
    "name": "ipython",
    "version": 3
   },
   "file_extension": ".py",
   "mimetype": "text/x-python",
   "name": "python",
   "nbconvert_exporter": "python",
   "pygments_lexer": "ipython3",
   "version": "3.11.9"
  }
 },
 "nbformat": 4,
 "nbformat_minor": 4
}
